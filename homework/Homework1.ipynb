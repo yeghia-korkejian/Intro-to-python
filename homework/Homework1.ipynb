{
 "cells": [
  {
   "cell_type": "markdown",
   "metadata": {},
   "source": [
    "# Problem 1"
   ]
  },
  {
   "cell_type": "code",
   "execution_count": 41,
   "metadata": {},
   "outputs": [
    {
     "name": "stdout",
     "output_type": "stream",
     "text": [
      "False\n",
      "True\n",
      "True\n",
      "False\n",
      "flour- 175\n",
      "butter- 175\n",
      "sugar- 100g\n",
      "eggs- 2\n",
      "cocoa powder- 1ts\n",
      "baking powder- 0.5\n"
     ]
    }
   ],
   "source": [
    "project = \"cake\"\n",
    "difficulty = 4\n",
    "ingredients = \"flour\",\"butter\",\"sugar\",\"eggs\",\"cocoa powder\",\"baking powder\"\n",
    "print (\"apples\" in ingredients)\n",
    "print (\"butter\" in ingredients)\n",
    "print ((\"eggs\" in ingredients) or (\"margarine\" in ingredients))\n",
    "print ((\"eggs\" in ingredients) and (\"margarine\" in ingredients))\n",
    "flour = 175\n",
    "butter = 175\n",
    "sugar = \"100g\"\n",
    "eggs = 2\n",
    "cocoa_powder = \"1ts\"\n",
    "baking_powder = 0.5\n",
    "print (\"flour-\",flour)\n",
    "print (\"butter-\",butter)\n",
    "print (\"sugar-\",sugar)\n",
    "print (\"eggs-\",eggs)\n",
    "print (\"cocoa powder-\",cocoa_powder)\n",
    "print (\"baking powder-\",baking_powder)\n",
    "\n"
   ]
  },
  {
   "cell_type": "markdown",
   "metadata": {},
   "source": [
    "# Problem 2"
   ]
  },
  {
   "cell_type": "code",
   "execution_count": 5,
   "metadata": {},
   "outputs": [
    {
     "name": "stdout",
     "output_type": "stream",
     "text": [
      "1003.0\n",
      "852\n"
     ]
    }
   ],
   "source": [
    "a= 15 \n",
    "b= 8\n",
    "c= 2\n",
    "expression_1 = (5*(a**2)-a*b+(a%2)-a/5)\n",
    "print (expression_1)\n",
    "expression_2 = (b**3+3*a*b-10*c)\n",
    "print (expression_2)"
   ]
  },
  {
   "cell_type": "markdown",
   "metadata": {},
   "source": [
    "# Problem 3"
   ]
  },
  {
   "cell_type": "code",
   "execution_count": 6,
   "metadata": {},
   "outputs": [
    {
     "name": "stdout",
     "output_type": "stream",
     "text": [
      "please enter a number44\n",
      "the number you entered is  44\n",
      "is even\n"
     ]
    }
   ],
   "source": [
    "x = input(\"please enter a number\")\n",
    "print (\"the number you entered is \",x)\n",
    "x = int(x)\n",
    "if x%2==0 or x==0:\n",
    "    print (\"is even\")\n",
    "else:\n",
    "    print (\"is odd\")"
   ]
  },
  {
   "cell_type": "code",
   "execution_count": null,
   "metadata": {},
   "outputs": [],
   "source": []
  }
 ],
 "metadata": {
  "kernelspec": {
   "display_name": "Python 3",
   "language": "python",
   "name": "python3"
  },
  "language_info": {
   "codemirror_mode": {
    "name": "ipython",
    "version": 3
   },
   "file_extension": ".py",
   "mimetype": "text/x-python",
   "name": "python",
   "nbconvert_exporter": "python",
   "pygments_lexer": "ipython3",
   "version": "3.7.4"
  }
 },
 "nbformat": 4,
 "nbformat_minor": 2
}
